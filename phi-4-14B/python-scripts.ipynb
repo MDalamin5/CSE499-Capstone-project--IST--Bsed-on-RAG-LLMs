{
 "cells": [
  {
   "cell_type": "code",
   "execution_count": 1,
   "metadata": {},
   "outputs": [
    {
     "name": "stdout",
     "output_type": "stream",
     "text": [
      "Dataset successfully converted and saved to 'phi4_formatted_data.txt'.\n"
     ]
    },
    {
     "name": "stderr",
     "output_type": "stream",
     "text": [
      "<>:34: SyntaxWarning: invalid escape sequence '\\('\n",
      "<>:36: SyntaxWarning: invalid escape sequence '\\('\n",
      "<>:34: SyntaxWarning: invalid escape sequence '\\('\n",
      "<>:36: SyntaxWarning: invalid escape sequence '\\('\n",
      "C:\\Users\\Lenovo\\AppData\\Local\\Temp\\ipykernel_18736\\3291662652.py:34: SyntaxWarning: invalid escape sequence '\\('\n",
      "  {\"turn\": 4, \"step\": 2, \"role\": \"system\", \"message\": \"Next, cancel \\( x² \\) from both sides...\"},\n",
      "C:\\Users\\Lenovo\\AppData\\Local\\Temp\\ipykernel_18736\\3291662652.py:36: SyntaxWarning: invalid escape sequence '\\('\n",
      "  {\"turn\": 6, \"step\": 4, \"role\": \"system\", \"message\": \"Finally, divide both sides by 2 to solve for \\( x \\)...\"}\n"
     ]
    }
   ],
   "source": [
    "import json\n",
    "\n",
    "def convert_to_phi4_format(data):\n",
    "    formatted_conversations = []\n",
    "\n",
    "    for variant in data[\"variants\"]:\n",
    "        conversation = variant[\"conversation\"]\n",
    "        formatted_convo = \"\"\n",
    "\n",
    "        for turn in conversation:\n",
    "            role = turn[\"role\"]\n",
    "            message = turn[\"message\"]\n",
    "\n",
    "            if role == \"system\":\n",
    "                formatted_convo += \"<|im_start|>system<|im_sep|>\\n\" + message + \"\\n<|im_end|>\\n\"\n",
    "            elif role == \"student\":\n",
    "                formatted_convo += \"<|im_start|>user<|im_sep|>\\n\" + message + \"\\n<|im_end|>\\n\"\n",
    "\n",
    "        formatted_conversations.append(formatted_convo)\n",
    "\n",
    "    return formatted_conversations\n",
    "\n",
    "# Load your dataset\n",
    "dataset = {\n",
    "    \"equation\": \"(x + 3)(x - 1) = x^2 + 5\",\n",
    "    \"variants\": [\n",
    "        {\n",
    "            \"variant_id\": \"1\",\n",
    "            \"description\": \"Direct Understanding\",\n",
    "            \"conversation\": [\n",
    "                {\"turn\": 1, \"step\": 1, \"role\": \"student\", \"message\": \"Solve the equation: (x + 3)(x - 1) = x² + 5.\"},\n",
    "                {\"turn\": 2, \"step\": 1, \"role\": \"system\", \"message\": \"First, expand the left-hand side of the equation...\"},\n",
    "                {\"turn\": 3, \"step\": 1, \"role\": \"student\", \"message\": \"Yes, I understand.\"},\n",
    "                {\"turn\": 4, \"step\": 2, \"role\": \"system\", \"message\": \"Next, cancel \\( x² \\) from both sides...\"},\n",
    "                {\"turn\": 5, \"step\": 3, \"role\": \"student\", \"message\": \"Yes.\"},\n",
    "                {\"turn\": 6, \"step\": 4, \"role\": \"system\", \"message\": \"Finally, divide both sides by 2 to solve for \\( x \\)...\"}\n",
    "            ]\n",
    "        }\n",
    "    ]\n",
    "}\n",
    "\n",
    "# Convert dataset\n",
    "formatted_data = convert_to_phi4_format(dataset)\n",
    "\n",
    "# Save to a file\n",
    "with open(\"phi4_formatted_data.txt\", \"w\", encoding=\"utf-8\") as f:\n",
    "    for convo in formatted_data:\n",
    "        f.write(convo + \"\\n\\n\")\n",
    "\n",
    "print(\"Dataset successfully converted and saved to 'phi4_formatted_data.txt'.\")\n"
   ]
  },
  {
   "cell_type": "code",
   "execution_count": 2,
   "metadata": {},
   "outputs": [
    {
     "name": "stdout",
     "output_type": "stream",
     "text": [
      "Dataset successfully converted and saved to 'phi4_formatted_data.txt'.\n"
     ]
    },
    {
     "name": "stderr",
     "output_type": "stream",
     "text": [
      "<>:37: SyntaxWarning: invalid escape sequence '\\('\n",
      "<>:39: SyntaxWarning: invalid escape sequence '\\('\n",
      "<>:37: SyntaxWarning: invalid escape sequence '\\('\n",
      "<>:39: SyntaxWarning: invalid escape sequence '\\('\n",
      "C:\\Users\\Lenovo\\AppData\\Local\\Temp\\ipykernel_18736\\3915551677.py:37: SyntaxWarning: invalid escape sequence '\\('\n",
      "  {\"turn\": 4, \"step\": 2, \"role\": \"system\", \"message\": \"Next, cancel \\( x² \\) from both sides...\"},\n",
      "C:\\Users\\Lenovo\\AppData\\Local\\Temp\\ipykernel_18736\\3915551677.py:39: SyntaxWarning: invalid escape sequence '\\('\n",
      "  {\"turn\": 6, \"step\": 4, \"role\": \"system\", \"message\": \"Finally, divide both sides by 2 to solve for \\( x \\)...\"}\n"
     ]
    }
   ],
   "source": [
    "import json\n",
    "\n",
    "def convert_to_phi4_format(data):\n",
    "    formatted_conversations = []\n",
    "\n",
    "    for variant in data[\"variants\"]:\n",
    "        conversation = variant[\"conversation\"]\n",
    "        formatted_convo = \"\"\n",
    "\n",
    "        # System message to establish the assistant's role\n",
    "        formatted_convo += \"<|im_start|>system<|im_sep|>\\nYou are a helpful AI math solver assistant. Solve this problem step by step.\\n<|im_end|>\\n\"\n",
    "\n",
    "        for turn in conversation:\n",
    "            role = turn[\"role\"]\n",
    "            message = turn[\"message\"]\n",
    "\n",
    "            if role == \"student\":  # Convert student role to 'user'\n",
    "                formatted_convo += \"<|im_start|>user<|im_sep|>\\n\" + message + \"\\n<|im_end|>\\n\"\n",
    "            elif role == \"system\":  # Convert system role to 'assistant'\n",
    "                formatted_convo += \"<|im_start|>assistant<|im_sep|>\\n\" + message + \"\\n<|im_end|>\\n\"\n",
    "\n",
    "        formatted_conversations.append(formatted_convo)\n",
    "\n",
    "    return formatted_conversations\n",
    "\n",
    "# Load your dataset\n",
    "dataset = {\n",
    "    \"equation\": \"(x + 3)(x - 1) = x^2 + 5\",\n",
    "    \"variants\": [\n",
    "        {\n",
    "            \"variant_id\": \"1\",\n",
    "            \"description\": \"Direct Understanding\",\n",
    "            \"conversation\": [\n",
    "                {\"turn\": 1, \"step\": 1, \"role\": \"student\", \"message\": \"Solve the equation: (x + 3)(x - 1) = x² + 5.\"},\n",
    "                {\"turn\": 2, \"step\": 1, \"role\": \"system\", \"message\": \"First, expand the left-hand side of the equation...\"},\n",
    "                {\"turn\": 3, \"step\": 1, \"role\": \"student\", \"message\": \"Yes, I understand.\"},\n",
    "                {\"turn\": 4, \"step\": 2, \"role\": \"system\", \"message\": \"Next, cancel \\( x² \\) from both sides...\"},\n",
    "                {\"turn\": 5, \"step\": 3, \"role\": \"student\", \"message\": \"Yes.\"},\n",
    "                {\"turn\": 6, \"step\": 4, \"role\": \"system\", \"message\": \"Finally, divide both sides by 2 to solve for \\( x \\)...\"}\n",
    "            ]\n",
    "        }\n",
    "    ]\n",
    "}\n",
    "\n",
    "# Convert dataset\n",
    "formatted_data = convert_to_phi4_format(dataset)\n",
    "\n",
    "# Save to a file\n",
    "with open(\"phi4_formatted_data.txt\", \"w\", encoding=\"utf-8\") as f:\n",
    "    for convo in formatted_data:\n",
    "        f.write(convo + \"\\n\\n\")\n",
    "\n",
    "print(\"Dataset successfully converted and saved to 'phi4_formatted_data.txt'.\")\n"
   ]
  },
  {
   "cell_type": "code",
   "execution_count": 3,
   "metadata": {},
   "outputs": [
    {
     "name": "stdout",
     "output_type": "stream",
     "text": [
      "Dataset successfully converted and saved to 'phi4_formatted_data.txt'.\n"
     ]
    }
   ],
   "source": [
    "import json\n",
    "\n",
    "def convert_to_phi4_format(data):\n",
    "    formatted_conversations = []\n",
    "\n",
    "    for variant in data[\"variants\"]:\n",
    "        conversation = variant[\"conversation\"]\n",
    "        formatted_convo = \"\"\n",
    "\n",
    "        # System message to establish the assistant's role\n",
    "        formatted_convo += \"<|im_start|>system<|im_sep|>\\nYou are a helpful AI math solver assistant. Solve this problem step by step.\\n<|im_end|>\\n\"\n",
    "\n",
    "        for turn in conversation:\n",
    "            role = turn[\"role\"]\n",
    "            message = turn[\"message\"]\n",
    "\n",
    "            # Fix escape sequences in messages\n",
    "            message = message.replace(\"\\\\(\", \"(\").replace(\"\\\\)\", \")\")  # Remove unnecessary escapes\n",
    "\n",
    "            if role == \"student\":  # Convert student role to 'user'\n",
    "                formatted_convo += \"<|im_start|>user<|im_sep|>\\n\" + message + \"\\n<|im_end|>\\n\"\n",
    "            elif role == \"system\":  # Convert system role to 'assistant'\n",
    "                formatted_convo += \"<|im_start|>assistant<|im_sep|>\\n\" + message + \"\\n<|im_end|>\\n\"\n",
    "\n",
    "        formatted_conversations.append(formatted_convo)\n",
    "\n",
    "    return formatted_conversations\n",
    "\n",
    "# Load your dataset\n",
    "dataset = {\n",
    "    \"equation\": \"(x + 3)(x - 1) = x^2 + 5\",\n",
    "    \"variants\": [\n",
    "        {\n",
    "            \"variant_id\": \"1\",\n",
    "            \"description\": \"Direct Understanding\",\n",
    "            \"conversation\": [\n",
    "                {\"turn\": 1, \"step\": 1, \"role\": \"student\", \"message\": \"Solve the equation: (x + 3)(x - 1) = x² + 5.\"},\n",
    "                {\"turn\": 2, \"step\": 1, \"role\": \"system\", \"message\": r\"First, expand the left-hand side of the equation...\"},\n",
    "                {\"turn\": 3, \"step\": 1, \"role\": \"student\", \"message\": \"Yes, I understand.\"},\n",
    "                {\"turn\": 4, \"step\": 2, \"role\": \"system\", \"message\": r\"Next, cancel \\( x² \\) from both sides...\"},\n",
    "                {\"turn\": 5, \"step\": 3, \"role\": \"student\", \"message\": \"Yes.\"},\n",
    "                {\"turn\": 6, \"step\": 4, \"role\": \"system\", \"message\": r\"Finally, divide both sides by 2 to solve for \\( x \\)...\"}\n",
    "            ]\n",
    "        }\n",
    "    ]\n",
    "}\n",
    "\n",
    "# Convert dataset\n",
    "formatted_data = convert_to_phi4_format(dataset)\n",
    "\n",
    "# Save to a file\n",
    "with open(\"phi4_formatted_data.txt\", \"w\", encoding=\"utf-8\") as f:\n",
    "    for convo in formatted_data:\n",
    "        f.write(convo + \"\\n\\n\")\n",
    "\n",
    "print(\"Dataset successfully converted and saved to 'phi4_formatted_data.txt'.\")\n"
   ]
  },
  {
   "cell_type": "code",
   "execution_count": null,
   "metadata": {},
   "outputs": [],
   "source": []
  }
 ],
 "metadata": {
  "kernelspec": {
   "display_name": "torchGPU",
   "language": "python",
   "name": "python3"
  },
  "language_info": {
   "codemirror_mode": {
    "name": "ipython",
    "version": 3
   },
   "file_extension": ".py",
   "mimetype": "text/x-python",
   "name": "python",
   "nbconvert_exporter": "python",
   "pygments_lexer": "ipython3",
   "version": "3.12.4"
  }
 },
 "nbformat": 4,
 "nbformat_minor": 2
}
