{
 "cells": [
  {
   "cell_type": "code",
   "execution_count": 6,
   "metadata": {},
   "outputs": [
    {
     "data": {
      "text/plain": [
       "True"
      ]
     },
     "execution_count": 6,
     "metadata": {},
     "output_type": "execute_result"
    }
   ],
   "source": [
    "import os\n",
    "from langchain_core.messages import HumanMessage\n",
    "from dotenv import load_dotenv\n",
    "load_dotenv()"
   ]
  },
  {
   "cell_type": "code",
   "execution_count": 3,
   "metadata": {},
   "outputs": [],
   "source": [
    "groq_api_key = os.getenv(\"GROQ_API_KEY\")"
   ]
  },
  {
   "cell_type": "code",
   "execution_count": 4,
   "metadata": {},
   "outputs": [],
   "source": [
    "from langchain_groq import ChatGroq\n",
    "model = ChatGroq(model_name=\"qwen-2.5-32b\")"
   ]
  },
  {
   "cell_type": "code",
   "execution_count": 5,
   "metadata": {},
   "outputs": [],
   "source": [
    "from langchain_core.prompts import ChatPromptTemplate, MessagesPlaceholder\n",
    "prompt=ChatPromptTemplate.from_messages(\n",
    "    [\n",
    "        (\n",
    "            'system',\n",
    "            'You are a helpful language translator assistant your task is convert english language to Bangla language. User will give a input and convert into Bangla Language just translate only.'\n",
    "        ),\n",
    "        MessagesPlaceholder(variable_name=\"messages\")\n",
    "    ]\n",
    ")\n",
    "chain=prompt|model"
   ]
  },
  {
   "cell_type": "code",
   "execution_count": null,
   "metadata": {},
   "outputs": [],
   "source": [
    "text = \"Janet’s ducks lay 16 eggs per day. She eats three for breakfast every morning and bakes muffins for her friends every day with four. She sells the remainder at the farmers' market daily for $2 per fresh duck egg. How much in dollars does she make every day at the farmers' market?\""
   ]
  },
  {
   "cell_type": "code",
   "execution_count": 10,
   "metadata": {},
   "outputs": [
    {
     "data": {
      "text/plain": [
       "'জেনেটের হংরাজ 16 টি ডিম প্রতিদিন দেয়। সে প্রতিদিন সকালে ব্রেকফাস্টে 3টি ডিম খায় এবং প্রতিদিন তার বন্ধুদের জন্য 4টি ডিম বেক করে মাফিন তৈরি করে। সে বাকি ডিমগুলিকে প্রতিদিন ফার্মার্স মার্কেটে $2 এ বিক্রি করে। সে প্রতিদিন ফার্মার্স মার্কেটে কত টাকা আয় করে?'"
      ]
     },
     "execution_count": 10,
     "metadata": {},
     "output_type": "execute_result"
    }
   ],
   "source": [
    "chain.invoke(\n",
    "    {'messages': [HumanMessage(content=text)]}\n",
    ").content"
   ]
  },
  {
   "cell_type": "code",
   "execution_count": 13,
   "metadata": {},
   "outputs": [
    {
     "name": "stdout",
     "output_type": "stream",
     "text": [
      "Translation complete. Translated data saved to gsm8k_bn-deep6.json\n"
     ]
    }
   ],
   "source": [
    "import json\n",
    "import re  # For regular expressions\n",
    "from langchain_groq import ChatGroq\n",
    "from langchain_core.prompts import ChatPromptTemplate, MessagesPlaceholder\n",
    "from langchain_core.messages import HumanMessage\n",
    "import os  # for accessing API keys\n",
    "\n",
    "\n",
    "# Load your Groq API Key from environment variables\n",
    "groq_api_key = os.environ.get(\"GROQ_API_KEY\")  # IMPORTANT: Set this in your environment\n",
    "if not groq_api_key:\n",
    "    raise ValueError(\"Groq API key not found.  Please set the GROQ_API_KEY environment variable.\")\n",
    "\n",
    "\n",
    "# Initialize Groq model\n",
    "# model = ChatGroq(model_name=\"qwen-2.5-32b\", groq_api_key=groq_api_key)\n",
    "model = ChatGroq(model_name=\"deepseek-r1-distill-llama-70b\", groq_api_key=groq_api_key)\n",
    "\n",
    "# Translation Prompt\n",
    "# prompt = ChatPromptTemplate.from_messages(\n",
    "#     [\n",
    "#         (\n",
    "#             'system',\n",
    "#             'You are a helpful language translator assistant.  Your task is to translate English language to Bangla language.  User will give an input, and you must translate it into Bangla. Do not translate any text enclosed in <<...>> or any line starting with ####.  These are mathematical expressions/answers that should remain in their original form.'\n",
    "#         ),\n",
    "#         MessagesPlaceholder(variable_name=\"messages\")\n",
    "#     ]\n",
    "# )\n",
    "\n",
    "prompt = ChatPromptTemplate.from_messages(\n",
    "    [\n",
    "        (\n",
    "            'system',\n",
    "            'You are a helpful language translator assistant. Your task is to translate English language to Bangla language. User will give an input, and you must translate it into Bangla. Do not translate any text enclosed in <<...>> or any line starting with ####. **Also, do NOT translate any numbers; keep them in their original English numeral form.** These are mathematical expressions/answers that should remain in their original form.'\n",
    "        ),\n",
    "        MessagesPlaceholder(variable_name=\"messages\")\n",
    "    ]\n",
    ")\n",
    "chain = prompt | model\n",
    "\n",
    "\n",
    "def translate_text(text):\n",
    "    \"\"\"Translates English text to Bangla, preserving calculations.\"\"\"\n",
    "    try:\n",
    "        result = chain.invoke({'messages': [HumanMessage(content=text)]}).content\n",
    "        return result\n",
    "    except Exception as e:\n",
    "        print(f\"Translation error: {e}\")\n",
    "        return None  # Handle errors gracefully\n",
    "\n",
    "\n",
    "def process_gsm8k(file_path):\n",
    "    \"\"\"\n",
    "    Loads the GSM8k JSON file, translates questions and answers,\n",
    "    and saves the translated data back to a new JSON file.\n",
    "    \"\"\"\n",
    "    with open(file_path, 'r', encoding='utf-8') as f:  # Specify encoding!\n",
    "        data = json.load(f)\n",
    "\n",
    "    translated_data = []\n",
    "    for item in data:\n",
    "        question_en = item[\"question\"]\n",
    "        answer_en = item[\"answer\"]\n",
    "\n",
    "        # Translate Question\n",
    "        question_bn = translate_text(question_en)\n",
    "\n",
    "        # Translate Answer (preserving calculations)\n",
    "        def replace_with_original(match):\n",
    "            return match.group(0)  # Return the original matched text\n",
    "\n",
    "        # Split the answer into translatable and non-translatable parts.\n",
    "        parts = re.split(r'(<<.*?>>|####.*)', answer_en)  # Split by <<...>> and ####...\n",
    "        translated_parts = []\n",
    "\n",
    "        for i, part in enumerate(parts):\n",
    "            if re.match(r'(<<.*?>>|####.*)', part):  # Check if it's a calculation part\n",
    "                translated_parts.append(part)  # Keep the calculation part as is\n",
    "            else:\n",
    "                translated_part = translate_text(part)\n",
    "                translated_parts.append(translated_part if translated_part else part)  # Translate or keep original if translation fails\n",
    "\n",
    "        answer_bn = \"\".join(translated_parts)  # Reassemble the translated answer.\n",
    "\n",
    "\n",
    "        translated_data_item = {\n",
    "            \"question_en\": question_en,\n",
    "            \"answer_en\": answer_en,\n",
    "            \"question_bn\": question_bn,\n",
    "            \"answer_bn\": answer_bn\n",
    "        }\n",
    "        translated_data.append(translated_data_item)\n",
    "\n",
    "\n",
    "    # Save the translated data to a new JSON file\n",
    "    output_file_path = \"gsm8k_bn-deep6.json\"\n",
    "    with open(output_file_path, 'w', encoding='utf-8') as outfile:\n",
    "        json.dump(translated_data, outfile, indent=4, ensure_ascii=False)  # ensure_ascii=False for Bangla characters\n",
    "\n",
    "    print(f\"Translation complete. Translated data saved to {output_file_path}\")\n",
    "\n",
    "\n",
    "# Example usage:\n",
    "file_path = \"gsm8k.json\"  # Replace with the actual path to your file\n",
    "process_gsm8k(file_path)"
   ]
  },
  {
   "cell_type": "code",
   "execution_count": null,
   "metadata": {},
   "outputs": [],
   "source": []
  }
 ],
 "metadata": {
  "kernelspec": {
   "display_name": "torchGPU",
   "language": "python",
   "name": "python3"
  },
  "language_info": {
   "codemirror_mode": {
    "name": "ipython",
    "version": 3
   },
   "file_extension": ".py",
   "mimetype": "text/x-python",
   "name": "python",
   "nbconvert_exporter": "python",
   "pygments_lexer": "ipython3",
   "version": "3.12.4"
  }
 },
 "nbformat": 4,
 "nbformat_minor": 2
}
