{
 "cells": [
  {
   "cell_type": "code",
   "execution_count": 1,
   "metadata": {},
   "outputs": [],
   "source": [
    "import pandas as pd"
   ]
  },
  {
   "cell_type": "code",
   "execution_count": 2,
   "metadata": {},
   "outputs": [
    {
     "data": {
      "text/plain": [
       "(138, 2)"
      ]
     },
     "execution_count": 2,
     "metadata": {},
     "output_type": "execute_result"
    }
   ],
   "source": [
    "df = pd.read_json('converted_data_v0.json')\n",
    "df.shape"
   ]
  },
  {
   "cell_type": "code",
   "execution_count": 4,
   "metadata": {},
   "outputs": [
    {
     "name": "stdout",
     "output_type": "stream",
     "text": [
      "<|system|>\n",
      "You are a helpful tutor for solving algebra.\n",
      "<|end|>\n",
      "\n",
      "<|user|>\n",
      "Simplify x^3 + 7x^2 - 2x^3.\n",
      "<|end|>\n",
      "\n",
      "<|assistant|>\n",
      "We can tackle this by first combining like terms. Do you have any idea which terms are alike?\n",
      "<|end|>\n",
      "\n",
      "<|user|>\n",
      "I'm not sure; can I get a hint?\n",
      "<|end|>\n",
      "\n",
      "<|assistant|>\n",
      "Of course! Look at x^3 and -2x^3. When you add them, what do you get?\n",
      "<|end|>\n",
      "\n",
      "<|user|>\n",
      "x^3 plus -2x^3 is -x^3.\n",
      "<|end|>\n",
      "\n",
      "<|assistant|>\n",
      "Exactly! So the expression becomes -x^3 + 7x^2. Now, what is the greatest common factor in both terms?\n",
      "<|end|>\n",
      "\n",
      "<|user|>\n",
      "They both share x^2.\n",
      "<|end|>\n",
      "\n",
      "<|assistant|>\n",
      "Perfect! Factoring out x^2 gives x^2(7 - x). That’s our simplified expression.\n",
      "<|end|>\n"
     ]
    }
   ],
   "source": [
    "print(df['text'][1])"
   ]
  },
  {
   "cell_type": "code",
   "execution_count": 7,
   "metadata": {},
   "outputs": [
    {
     "data": {
      "text/plain": [
       "(138,)"
      ]
     },
     "execution_count": 7,
     "metadata": {},
     "output_type": "execute_result"
    }
   ],
   "source": [
    "updated_df = df['text']\n",
    "updated_df.shape"
   ]
  },
  {
   "cell_type": "code",
   "execution_count": 8,
   "metadata": {},
   "outputs": [
    {
     "data": {
      "text/plain": [
       "0    <|system|>\\nYou are a helpful tutor for solvin...\n",
       "1    <|system|>\\nYou are a helpful tutor for solvin...\n",
       "2    <|system|>\\nYou are a helpful tutor for solvin...\n",
       "3    <|system|>\\nYou are a helpful tutor for solvin...\n",
       "4    <|system|>\\nYou are a helpful tutor for solvin...\n",
       "Name: text, dtype: object"
      ]
     },
     "execution_count": 8,
     "metadata": {},
     "output_type": "execute_result"
    }
   ],
   "source": [
    "updated_df.head()"
   ]
  },
  {
   "cell_type": "code",
   "execution_count": 9,
   "metadata": {},
   "outputs": [],
   "source": [
    "updated_df.to_csv(\"clean_data_v0.csv\", index=False)"
   ]
  },
  {
   "cell_type": "code",
   "execution_count": 11,
   "metadata": {},
   "outputs": [
    {
     "data": {
      "text/html": [
       "<div>\n",
       "<style scoped>\n",
       "    .dataframe tbody tr th:only-of-type {\n",
       "        vertical-align: middle;\n",
       "    }\n",
       "\n",
       "    .dataframe tbody tr th {\n",
       "        vertical-align: top;\n",
       "    }\n",
       "\n",
       "    .dataframe thead th {\n",
       "        text-align: right;\n",
       "    }\n",
       "</style>\n",
       "<table border=\"1\" class=\"dataframe\">\n",
       "  <thead>\n",
       "    <tr style=\"text-align: right;\">\n",
       "      <th></th>\n",
       "      <th>text</th>\n",
       "    </tr>\n",
       "  </thead>\n",
       "  <tbody>\n",
       "    <tr>\n",
       "      <th>0</th>\n",
       "      <td>&lt;|system|&gt;\\nYou are a helpful tutor for solvin...</td>\n",
       "    </tr>\n",
       "    <tr>\n",
       "      <th>1</th>\n",
       "      <td>&lt;|system|&gt;\\nYou are a helpful tutor for solvin...</td>\n",
       "    </tr>\n",
       "    <tr>\n",
       "      <th>2</th>\n",
       "      <td>&lt;|system|&gt;\\nYou are a helpful tutor for solvin...</td>\n",
       "    </tr>\n",
       "    <tr>\n",
       "      <th>3</th>\n",
       "      <td>&lt;|system|&gt;\\nYou are a helpful tutor for solvin...</td>\n",
       "    </tr>\n",
       "    <tr>\n",
       "      <th>4</th>\n",
       "      <td>&lt;|system|&gt;\\nYou are a helpful tutor for solvin...</td>\n",
       "    </tr>\n",
       "  </tbody>\n",
       "</table>\n",
       "</div>"
      ],
      "text/plain": [
       "                                                text\n",
       "0  <|system|>\\nYou are a helpful tutor for solvin...\n",
       "1  <|system|>\\nYou are a helpful tutor for solvin...\n",
       "2  <|system|>\\nYou are a helpful tutor for solvin...\n",
       "3  <|system|>\\nYou are a helpful tutor for solvin...\n",
       "4  <|system|>\\nYou are a helpful tutor for solvin..."
      ]
     },
     "execution_count": 11,
     "metadata": {},
     "output_type": "execute_result"
    }
   ],
   "source": [
    "csv_df = pd.read_csv('clean_data_v0.csv')\n",
    "csv_df.head()"
   ]
  },
  {
   "cell_type": "code",
   "execution_count": null,
   "metadata": {},
   "outputs": [],
   "source": []
  }
 ],
 "metadata": {
  "kernelspec": {
   "display_name": "torchGPU",
   "language": "python",
   "name": "python3"
  },
  "language_info": {
   "codemirror_mode": {
    "name": "ipython",
    "version": 3
   },
   "file_extension": ".py",
   "mimetype": "text/x-python",
   "name": "python",
   "nbconvert_exporter": "python",
   "pygments_lexer": "ipython3",
   "version": "3.12.4"
  }
 },
 "nbformat": 4,
 "nbformat_minor": 2
}
